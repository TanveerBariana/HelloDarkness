{
 "cells": [
  {
   "cell_type": "code",
   "execution_count": 1,
   "metadata": {},
   "outputs": [],
   "source": [
    "import numpy as np\n",
    "import cv2 as cv\n"
   ]
  },
  {
   "cell_type": "code",
   "execution_count": 2,
   "metadata": {},
   "outputs": [],
   "source": [
    "cap = cv.VideoCapture(0)"
   ]
  },
  {
   "cell_type": "code",
   "execution_count": 3,
   "metadata": {},
   "outputs": [],
   "source": [
    "face_cascade = cv.CascadeClassifier('C:\\\\Program Files (x86)\\\\Microsoft Visual Studio\\\\Shared\\\\Python36_64\\\\Lib\\\\site-packages\\\\cv2\\\\data\\\\haarcascade_frontalface_default.xml')\n",
    "eye_cascade = cv.CascadeClassifier('C:\\\\Program Files (x86)\\\\Microsoft Visual Studio\\\\Shared\\\\Python36_64\\\\Lib\\\\site-packages\\\\cv2\\\\data\\\\haarcascade_eye.xml')"
   ]
  },
  {
   "cell_type": "code",
   "execution_count": null,
   "metadata": {},
   "outputs": [],
   "source": [
    "while(True):\n",
    "    # Capture frame-by-frame\n",
    "    ret, frame = cap.read()\n",
    "    # Our operations on the frame come here\n",
    "    gray = cv.cvtColor(frame, cv.COLOR_BGR2GRAY)\n",
    "    faces = face_cascade.detectMultiScale(gray, 1.3, 5)\n",
    "    for (x,y,w,h) in faces:\n",
    "        cv.rectangle(frame,(x,y),(x+w,y+h),(255,0,0),2)\n",
    "        roi_gray = gray[y:y+h, x:x+w]\n",
    "        roi_color = frame[y:y+h, x:x+w]\n",
    "        eyes = eye_cascade.detectMultiScale(roi_gray)\n",
    "        for (ex,ey,ew,eh) in eyes:\n",
    "            cv.rectangle(roi_color,(ex,ey),(ex+ew,ey+eh),(0,255,0),2)\n",
    "    # Display the resulting frame\n",
    "    cv.imshow('frame',frame)\n",
    "    if cv.waitKey(1) & 0xFF == ord('q'):\n",
    "        break"
   ]
  },
  {
   "cell_type": "code",
   "execution_count": null,
   "metadata": {},
   "outputs": [],
   "source": [
    "# When everything done, release the capture\n",
    "cap.release()\n",
    "cv2.destroyAllWindows()"
   ]
  },
  {
   "cell_type": "code",
   "execution_count": 4,
   "metadata": {
    "scrolled": true
   },
   "outputs": [
    {
     "data": {
      "text/plain": [
       "(True, array([[[195, 197, 192],\n",
       "         [192, 193, 188],\n",
       "         [192, 194, 187],\n",
       "         ...,\n",
       "         [180, 187, 174],\n",
       "         [187, 191, 179],\n",
       "         [187, 191, 179]],\n",
       " \n",
       "        [[195, 197, 192],\n",
       "         [192, 193, 188],\n",
       "         [190, 193, 186],\n",
       "         ...,\n",
       "         [162, 168, 156],\n",
       "         [165, 169, 157],\n",
       "         [162, 167, 154]],\n",
       " \n",
       "        [[195, 198, 189],\n",
       "         [193, 196, 186],\n",
       "         [195, 198, 189],\n",
       "         ...,\n",
       "         [169, 174, 160],\n",
       "         [168, 173, 159],\n",
       "         [164, 168, 154]],\n",
       " \n",
       "        ...,\n",
       " \n",
       "        [[119, 136, 133],\n",
       "         [116, 133, 130],\n",
       "         [113, 130, 128],\n",
       "         ...,\n",
       "         [235, 245, 223],\n",
       "         [236, 246, 224],\n",
       "         [234, 243, 221]],\n",
       " \n",
       "        [[116, 133, 130],\n",
       "         [115, 131, 129],\n",
       "         [119, 131, 129],\n",
       "         ...,\n",
       "         [236, 243, 221],\n",
       "         [237, 244, 223],\n",
       "         [237, 244, 223]],\n",
       " \n",
       "        [[116, 133, 130],\n",
       "         [113, 130, 128],\n",
       "         [117, 129, 128],\n",
       "         ...,\n",
       "         [239, 247, 225],\n",
       "         [237, 244, 223],\n",
       "         [236, 243, 221]]], dtype=uint8))"
      ]
     },
     "execution_count": 4,
     "metadata": {},
     "output_type": "execute_result"
    }
   ],
   "source": [
    "cap.read()"
   ]
  },
  {
   "cell_type": "code",
   "execution_count": 5,
   "metadata": {},
   "outputs": [
    {
     "data": {
      "text/plain": [
       "True"
      ]
     },
     "execution_count": 5,
     "metadata": {},
     "output_type": "execute_result"
    }
   ],
   "source": [
    "cap.isOpened()"
   ]
  },
  {
   "cell_type": "code",
   "execution_count": null,
   "metadata": {},
   "outputs": [],
   "source": []
  }
 ],
 "metadata": {
  "kernelspec": {
   "display_name": "Python 3",
   "language": "python",
   "name": "python3"
  },
  "language_info": {
   "codemirror_mode": {
    "name": "ipython",
    "version": 3
   },
   "file_extension": ".py",
   "mimetype": "text/x-python",
   "name": "python",
   "nbconvert_exporter": "python",
   "pygments_lexer": "ipython3",
   "version": "3.6.5"
  }
 },
 "nbformat": 4,
 "nbformat_minor": 2
}
